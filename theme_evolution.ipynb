{
 "cells": [
  {
   "cell_type": "code",
   "execution_count": 1,
   "id": "161af0f6",
   "metadata": {},
   "outputs": [],
   "source": [
    "\"\"\"\n",
    "requirements:\n",
    " pip install pandas janome nlpplot matplotlib plotly\n",
    "\"\"\"\n",
    "import pandas as pd\n",
    "import nlplot\n",
    "import pandas as pd\n",
    "import plotly\n",
    "from plotly.subplots import make_subplots\n",
    "from plotly.offline import iplot\n",
    "import matplotlib.pyplot as plt\n",
    "\n",
    "import word_wakati as wkt"
   ]
  },
  {
   "cell_type": "code",
   "execution_count": 2,
   "id": "d4c6d043",
   "metadata": {},
   "outputs": [
    {
     "data": {
      "text/html": [
       "<div>\n",
       "<style scoped>\n",
       "    .dataframe tbody tr th:only-of-type {\n",
       "        vertical-align: middle;\n",
       "    }\n",
       "\n",
       "    .dataframe tbody tr th {\n",
       "        vertical-align: top;\n",
       "    }\n",
       "\n",
       "    .dataframe thead th {\n",
       "        text-align: right;\n",
       "    }\n",
       "</style>\n",
       "<table border=\"1\" class=\"dataframe\">\n",
       "  <thead>\n",
       "    <tr style=\"text-align: right;\">\n",
       "      <th></th>\n",
       "      <th>年度</th>\n",
       "      <th>学科／研究科</th>\n",
       "      <th>研究室</th>\n",
       "      <th>学籍番号</th>\n",
       "      <th>賞</th>\n",
       "      <th>氏名</th>\n",
       "      <th>要旨</th>\n",
       "      <th>題目</th>\n",
       "    </tr>\n",
       "  </thead>\n",
       "  <tbody>\n",
       "    <tr>\n",
       "      <th>0</th>\n",
       "      <td>H17</td>\n",
       "      <td>情報科学科</td>\n",
       "      <td>相研</td>\n",
       "      <td>02JK001</td>\n",
       "      <td>NaN</td>\n",
       "      <td>青木雄司</td>\n",
       "      <td>NaN</td>\n",
       "      <td>WEBページにおけるユーザビリティの追及</td>\n",
       "    </tr>\n",
       "    <tr>\n",
       "      <th>1</th>\n",
       "      <td>H17</td>\n",
       "      <td>情報科学科</td>\n",
       "      <td>松永研</td>\n",
       "      <td>02JK002</td>\n",
       "      <td>NaN</td>\n",
       "      <td>青柳茂樹</td>\n",
       "      <td>NaN</td>\n",
       "      <td>安全運転管理教育システム(ASSIST)における複数カメラ使用での交通事故防止対策</td>\n",
       "    </tr>\n",
       "    <tr>\n",
       "      <th>2</th>\n",
       "      <td>H17</td>\n",
       "      <td>情報科学科</td>\n",
       "      <td>宮崎研</td>\n",
       "      <td>02JK003</td>\n",
       "      <td>NaN</td>\n",
       "      <td>芦刈綾子</td>\n",
       "      <td>NaN</td>\n",
       "      <td>電子透かしの体制に関する検討 -加重平均フィルタ・メディアンフィルタの場合-</td>\n",
       "    </tr>\n",
       "    <tr>\n",
       "      <th>3</th>\n",
       "      <td>H17</td>\n",
       "      <td>情報科学科</td>\n",
       "      <td>成研</td>\n",
       "      <td>02JK005</td>\n",
       "      <td>NaN</td>\n",
       "      <td>足達祐治</td>\n",
       "      <td>NaN</td>\n",
       "      <td>対面教育を支援するためのウェブ助言システム</td>\n",
       "    </tr>\n",
       "    <tr>\n",
       "      <th>4</th>\n",
       "      <td>H17</td>\n",
       "      <td>情報科学科</td>\n",
       "      <td>石田健研</td>\n",
       "      <td>02JK006</td>\n",
       "      <td>NaN</td>\n",
       "      <td>安部弘治</td>\n",
       "      <td>NaN</td>\n",
       "      <td>衛星通信検討のための気象データの解析-2002年のデータ解析-</td>\n",
       "    </tr>\n",
       "  </tbody>\n",
       "</table>\n",
       "</div>"
      ],
      "text/plain": [
       "    年度 学科／研究科   研究室     学籍番号    賞    氏名   要旨  \\\n",
       "0  H17  情報科学科    相研  02JK001  NaN  青木雄司  NaN   \n",
       "1  H17  情報科学科   松永研  02JK002  NaN  青柳茂樹  NaN   \n",
       "2  H17  情報科学科   宮崎研  02JK003  NaN  芦刈綾子  NaN   \n",
       "3  H17  情報科学科    成研  02JK005  NaN  足達祐治  NaN   \n",
       "4  H17  情報科学科  石田健研  02JK006  NaN  安部弘治  NaN   \n",
       "\n",
       "                                          題目  \n",
       "0                       WEBページにおけるユーザビリティの追及  \n",
       "1  安全運転管理教育システム(ASSIST)における複数カメラ使用での交通事故防止対策  \n",
       "2     電子透かしの体制に関する検討 -加重平均フィルタ・メディアンフィルタの場合-  \n",
       "3                      対面教育を支援するためのウェブ助言システム  \n",
       "4            衛星通信検討のための気象データの解析-2002年のデータ解析-  "
      ]
     },
     "execution_count": 2,
     "metadata": {},
     "output_type": "execute_result"
    }
   ],
   "source": [
    "df = pd.read_csv('Dataset.csv')\n",
    "df.head()"
   ]
  },
  {
   "cell_type": "code",
   "execution_count": 29,
   "id": "a1820e9e",
   "metadata": {},
   "outputs": [
    {
     "name": "stdout",
     "output_type": "stream",
     "text": [
      "H17 H22\n",
      "H19 H24\n",
      "H21 H26\n",
      "H23 H28\n",
      "H25 H30\n",
      "H27 R02\n",
      "H29 R04\n"
     ]
    }
   ],
   "source": [
    "years = df[\"年度\"].unique()\n",
    "y, d = 5, 2 # loop for every 'y' years\n",
    "for i in range(0,len(years)-y, d):\n",
    "    print(years[i],years[i+y],)"
   ]
  },
  {
   "cell_type": "code",
   "execution_count": 4,
   "id": "78e33575",
   "metadata": {},
   "outputs": [
    {
     "data": {
      "text/plain": [
       "2148"
      ]
     },
     "execution_count": 4,
     "metadata": {},
     "output_type": "execute_result"
    }
   ],
   "source": [
    "len(df)"
   ]
  },
  {
   "cell_type": "code",
   "execution_count": 5,
   "id": "85331806",
   "metadata": {},
   "outputs": [
    {
     "name": "stdout",
     "output_type": "stream",
     "text": [
      "dict_values(['A研', 'B研', 'C研', 'D研', 'E研', 'F研', 'G研', 'H研', 'M研', 'N研', 'P研', 'Q研', 'R研'])\n"
     ]
    }
   ],
   "source": [
    "fake_lab={'成研': 'A研', '石田健研': 'B研', '仲研': 'C研', '澤田研': 'D研', \n",
    "          '稲永研': 'E研', '合志研': 'F研', '米元研': 'G研', '朝廣研': 'H研', \n",
    "          '下川研': 'M研', '安部研': 'N研', 'アプドゥハン研': 'P研', '田中研': 'Q研', '安武研': 'R研'}\n",
    "print(fake_lab.values())"
   ]
  },
  {
   "cell_type": "markdown",
   "id": "8586cf33",
   "metadata": {},
   "source": [
    "# various graphs\n",
    "- themeriver graph (mathplotlib.stackplots)\n",
    "- knowledge structure graph"
   ]
  },
  {
   "cell_type": "code",
   "execution_count": 6,
   "metadata": {},
   "outputs": [
    {
     "name": "stdout",
     "output_type": "stream",
     "text": [
      "['拡張', '現実', '感', 'ため', '物体', '奥行き', '考慮', 'する', '陰', '面', '消去']\n",
      "['拡張現実', '感', 'ため', '物体', '奥行き', '考慮', 'した陰', '面', '消去']\n"
     ]
    }
   ],
   "source": [
    "import importlib\n",
    "importlib.reload(wkt)\n",
    "mecab = wkt.create_parser(worker='mecab', parts_of_speech=['名詞','動詞','形容詞'])\n",
    "janome = wkt.create_parser(worker='janome', parts_of_speech=['名詞','動詞','形容詞'])\n",
    "text = '拡張現実感のための実物体の奥行きを考慮した陰面消去'\n",
    "rs_j = wkt.word_seq(text,parser=janome)\n",
    "rs_m = wkt.word_seq(text,parser=mecab)\n",
    "print(rs_j)\n",
    "print(rs_m)"
   ]
  },
  {
   "cell_type": "code",
   "execution_count": 7,
   "metadata": {},
   "outputs": [
    {
     "name": "stdout",
     "output_type": "stream",
     "text": [
      "['研究', '室', '配属', '学生', '研究', '室', '理解', '深める', '情報', '共有', 'システム']\n",
      "['研究室', '配属', '学生', '研究室', '理解', '深める', '情報共有', 'システム']\n"
     ]
    }
   ],
   "source": [
    "text = '研究室配属における学生の研究室に対する理解を深める情報共有システム'\n",
    "rs_j = wkt.word_seq(text,parser=janome)\n",
    "rs_m = wkt.word_seq(text,parser=mecab)\n",
    "print(rs_j)\n",
    "print(rs_m)"
   ]
  },
  {
   "cell_type": "code",
   "execution_count": 71,
   "metadata": {},
   "outputs": [],
   "source": [
    "%matplotlib inline\n",
    "import importlib\n",
    "importlib.reload(wkt)\n",
    "\n",
    "targets = ['動詞', '名詞', '形容詞'] #評価対象にする品詞\n",
    "ignores = ['－', '～', '-', '(', ')', '---', '.','する','ため','用いる','有する','用','使う'] #無視する記号や単語\n",
    "mecab  = wkt.create_parser(worker='mecab',  parts_of_speech=targets, stop_words=ignores)"
   ]
  },
  {
   "cell_type": "code",
   "execution_count": 147,
   "metadata": {},
   "outputs": [
    {
     "data": {
      "text/plain": [
       "['a b c', 'b c g']"
      ]
     },
     "execution_count": 147,
     "metadata": {},
     "output_type": "execute_result"
    }
   ],
   "source": [
    "import collections\n",
    "\n",
    "def ngram(words, n):\n",
    "    lists = []\n",
    "    m = len(words)\n",
    "    if m > n:\n",
    "        for i in range(n):\n",
    "            lists += [ words[i:m-i+n] ]\n",
    "        glist = list(zip(*lists))\n",
    "    else:\n",
    "        glist = words\n",
    "        \n",
    "    return [\" \".join(g) for g in glist]\n",
    "\n",
    "ngram(['a','b', 'c', 'g'], 3)"
   ]
  },
  {
   "cell_type": "code",
   "execution_count": 163,
   "metadata": {},
   "outputs": [
    {
     "name": "stdout",
     "output_type": "stream",
     "text": [
      "[('管理教育 システム ASSIST', 29), ('支援 システム 開発', 17), ('電磁波 伝搬 シミュレータ', 12), ('安全運転 助言 検査', 11), ('ドライビング シミュレータ 開発', 10), ('式 安全運転 助言', 10), ('問題 メタヒューリスティクス 実験的', 9), ('メタヒューリスティクス 実験的 解析', 9), ('教育 ドライビング シミュレータ', 9), ('作成 支援 システム', 8), ('組合せ最適化 問題 メタヒューリスティクス', 8), ('FDTD 法 利用', 8), ('伝搬 シミュレータ 作成', 8), ('KM 式 安全運転', 8), ('体験型 ドライビング シミュレータ', 8), ('CO2 排出 量', 8), ('排出 量 削減', 8), ('講義 記録 システム', 7), ('移動 効率 体験型', 7), ('効率 体験型 ドライビング', 7), ('Java 数学教育 支援', 7), ('交通 標識 抽出', 6), ('クラスタ コンピューティング 教育支援', 6), ('運営 支援 システム', 6), ('足型 測定 器', 6), ('法 利用 2次元', 6), ('利用 2次元 電磁波', 6), ('2次元 電磁波 伝搬', 6), ('型 KM 式', 6), ('道路交通 標識 認識', 6), ('数学教育 支援 ソフトウェア', 6), ('衛星 通信 検討', 5), ('記録 システム アクセス解析', 5), ('システム 設計 開発', 5), ('マルチ ビーム 型', 5), ('ビーム 型 衛星', 5), ('型 衛星 通信', 5), ('一時停止 教育 ドライビング', 5), ('動的 挙動 解析', 5)]\n",
      "\n",
      "[('支援 システム 開発', 27), ('安全運転 管理教育 システム', 21), ('管理教育 システム ASSIST', 21), ('地域 公共 交通', 17), ('教育 ドライビング シミュレータ', 16), ('公共 交通 基盤', 16), ('交通 基盤 データ', 16), ('Web システム 開発', 15), ('アルゴリズム 実装 実験', 14), ('計測 Android アプリケーション', 10), ('シグナル 伝達 系', 10), ('公共 交通 向け', 9), ('貸与 PC 実験', 9), ('演習 課題 検討', 8), ('関連 情報 抽出', 8), ('細胞内 シグナル 伝達', 7), ('伝達 系 安定性', 7), ('留年 退学 予測', 7), ('学習 支援 アプリ', 7), ('問題 アルゴリズム 性能', 7), ('アルゴリズム 性能 評価', 7), ('モデル 計算機 KERNEL', 6), ('管理 システム 開発', 6), ('プログラミング 教材 開発', 6), ('車載 装置 開発', 6), ('心拍 関連 情報', 6), ('はぐ 農園 Web', 6), ('農園 Web システム', 6), ('2019年度 貸与 PC', 6), ('I 2 C', 5), ('乗降客数 計測 Android', 5), ('Web アプリケーション 開発', 5), ('計算機 KERNEL 更新', 5), ('教育 教材 作成', 5), ('人 型 ロボット', 5), ('車間 距離 維持', 5), ('距離 維持 教育', 5), ('維持 教育 ドライビング', 5), ('向け 乗降客数 計測', 5)]\n"
     ]
    }
   ],
   "source": [
    "def topk(i, j, n, stopwords=0):\n",
    "    y1, y2 = years[i],years[j]\n",
    "    df1 = None\n",
    "    df1 = df[(df['研究室'].str.contains(\"研\")) & (df['年度']>=y1) & (df['年度']<=y2)]\n",
    "    titles =  [ t[0] for t in df1.loc[:,['題目']].values]\n",
    "    freq = collections.defaultdict(int)\n",
    "    for text in titles:\n",
    "        words = wkt.word_seq(text, parser=mecab)\n",
    "        glist = ngram(words, 3)\n",
    "#         print(glist)\n",
    "        for g in glist:\n",
    "            freq[g] += 1 \n",
    "    freq = sorted(freq.items(), key=lambda x: x[1], reverse=True)   \n",
    "    return freq[stopwords:n]\n",
    "\n",
    "k, s = 40, 1\n",
    "top10 = topk(0,7,k,stopwords=s)\n",
    "print(top10)\n",
    "print()\n",
    "top10 = topk(10,17,k,stopwords=s)\n",
    "print(top10)"
   ]
  },
  {
   "cell_type": "code",
   "execution_count": null,
   "metadata": {},
   "outputs": [],
   "source": []
  }
 ],
 "metadata": {
  "kernelspec": {
   "display_name": "Python 3",
   "language": "python",
   "name": "python3"
  },
  "language_info": {
   "codemirror_mode": {
    "name": "ipython",
    "version": 3
   },
   "file_extension": ".py",
   "mimetype": "text/x-python",
   "name": "python",
   "nbconvert_exporter": "python",
   "pygments_lexer": "ipython3",
   "version": "3.8.5"
  }
 },
 "nbformat": 4,
 "nbformat_minor": 5
}
