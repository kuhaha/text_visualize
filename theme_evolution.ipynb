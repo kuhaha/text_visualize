{
 "cells": [
  {
   "cell_type": "code",
   "execution_count": 1,
   "id": "161af0f6",
   "metadata": {},
   "outputs": [],
   "source": [
    "\"\"\"\n",
    "requirements:\n",
    " pip install pandas janome nlpplot matplotlib plotly\n",
    "\"\"\"\n",
    "import pandas as pd\n",
    "import nlplot\n",
    "import pandas as pd\n",
    "import plotly\n",
    "from plotly.subplots import make_subplots\n",
    "from plotly.offline import iplot\n",
    "import matplotlib.pyplot as plt\n",
    "\n",
    "import word_wakati as wkt"
   ]
  },
  {
   "cell_type": "code",
   "execution_count": 2,
   "id": "d4c6d043",
   "metadata": {},
   "outputs": [
    {
     "data": {
      "text/html": [
       "<div>\n",
       "<style scoped>\n",
       "    .dataframe tbody tr th:only-of-type {\n",
       "        vertical-align: middle;\n",
       "    }\n",
       "\n",
       "    .dataframe tbody tr th {\n",
       "        vertical-align: top;\n",
       "    }\n",
       "\n",
       "    .dataframe thead th {\n",
       "        text-align: right;\n",
       "    }\n",
       "</style>\n",
       "<table border=\"1\" class=\"dataframe\">\n",
       "  <thead>\n",
       "    <tr style=\"text-align: right;\">\n",
       "      <th></th>\n",
       "      <th>年度</th>\n",
       "      <th>学科／研究科</th>\n",
       "      <th>研究室</th>\n",
       "      <th>学籍番号</th>\n",
       "      <th>賞</th>\n",
       "      <th>氏名</th>\n",
       "      <th>要旨</th>\n",
       "      <th>題目</th>\n",
       "    </tr>\n",
       "  </thead>\n",
       "  <tbody>\n",
       "    <tr>\n",
       "      <th>0</th>\n",
       "      <td>H17</td>\n",
       "      <td>情報科学科</td>\n",
       "      <td>相研</td>\n",
       "      <td>02JK001</td>\n",
       "      <td>NaN</td>\n",
       "      <td>青木雄司</td>\n",
       "      <td>NaN</td>\n",
       "      <td>WEBページにおけるユーザビリティの追及</td>\n",
       "    </tr>\n",
       "    <tr>\n",
       "      <th>1</th>\n",
       "      <td>H17</td>\n",
       "      <td>情報科学科</td>\n",
       "      <td>松永研</td>\n",
       "      <td>02JK002</td>\n",
       "      <td>NaN</td>\n",
       "      <td>青柳茂樹</td>\n",
       "      <td>NaN</td>\n",
       "      <td>安全運転管理教育システム(ASSIST)における複数カメラ使用での交通事故防止対策</td>\n",
       "    </tr>\n",
       "    <tr>\n",
       "      <th>2</th>\n",
       "      <td>H17</td>\n",
       "      <td>情報科学科</td>\n",
       "      <td>宮崎研</td>\n",
       "      <td>02JK003</td>\n",
       "      <td>NaN</td>\n",
       "      <td>芦刈綾子</td>\n",
       "      <td>NaN</td>\n",
       "      <td>電子透かしの体制に関する検討 -加重平均フィルタ・メディアンフィルタの場合-</td>\n",
       "    </tr>\n",
       "    <tr>\n",
       "      <th>3</th>\n",
       "      <td>H17</td>\n",
       "      <td>情報科学科</td>\n",
       "      <td>成研</td>\n",
       "      <td>02JK005</td>\n",
       "      <td>NaN</td>\n",
       "      <td>足達祐治</td>\n",
       "      <td>NaN</td>\n",
       "      <td>対面教育を支援するためのウェブ助言システム</td>\n",
       "    </tr>\n",
       "    <tr>\n",
       "      <th>4</th>\n",
       "      <td>H17</td>\n",
       "      <td>情報科学科</td>\n",
       "      <td>石田健研</td>\n",
       "      <td>02JK006</td>\n",
       "      <td>NaN</td>\n",
       "      <td>安部弘治</td>\n",
       "      <td>NaN</td>\n",
       "      <td>衛星通信検討のための気象データの解析-2002年のデータ解析-</td>\n",
       "    </tr>\n",
       "  </tbody>\n",
       "</table>\n",
       "</div>"
      ],
      "text/plain": [
       "    年度 学科／研究科   研究室     学籍番号    賞    氏名   要旨  \\\n",
       "0  H17  情報科学科    相研  02JK001  NaN  青木雄司  NaN   \n",
       "1  H17  情報科学科   松永研  02JK002  NaN  青柳茂樹  NaN   \n",
       "2  H17  情報科学科   宮崎研  02JK003  NaN  芦刈綾子  NaN   \n",
       "3  H17  情報科学科    成研  02JK005  NaN  足達祐治  NaN   \n",
       "4  H17  情報科学科  石田健研  02JK006  NaN  安部弘治  NaN   \n",
       "\n",
       "                                          題目  \n",
       "0                       WEBページにおけるユーザビリティの追及  \n",
       "1  安全運転管理教育システム(ASSIST)における複数カメラ使用での交通事故防止対策  \n",
       "2     電子透かしの体制に関する検討 -加重平均フィルタ・メディアンフィルタの場合-  \n",
       "3                      対面教育を支援するためのウェブ助言システム  \n",
       "4            衛星通信検討のための気象データの解析-2002年のデータ解析-  "
      ]
     },
     "execution_count": 2,
     "metadata": {},
     "output_type": "execute_result"
    }
   ],
   "source": [
    "df = pd.read_csv('Dataset.csv')\n",
    "df.head()"
   ]
  },
  {
   "cell_type": "code",
   "execution_count": 3,
   "id": "a1820e9e",
   "metadata": {},
   "outputs": [
    {
     "data": {
      "text/plain": [
       "array(['H17', 'H18', 'H19', 'H20', 'H21', 'H22', 'H23', 'H24', 'H25',\n",
       "       'H26', 'H27', 'H28', 'H29', 'H30', 'R01', 'R02', 'R03', 'R04'],\n",
       "      dtype=object)"
      ]
     },
     "execution_count": 3,
     "metadata": {},
     "output_type": "execute_result"
    }
   ],
   "source": [
    "df[\"年度\"].unique()"
   ]
  },
  {
   "cell_type": "code",
   "execution_count": 4,
   "id": "78e33575",
   "metadata": {},
   "outputs": [
    {
     "data": {
      "text/plain": [
       "2148"
      ]
     },
     "execution_count": 4,
     "metadata": {},
     "output_type": "execute_result"
    }
   ],
   "source": [
    "len(df)"
   ]
  },
  {
   "cell_type": "code",
   "execution_count": 5,
   "id": "85331806",
   "metadata": {},
   "outputs": [
    {
     "name": "stdout",
     "output_type": "stream",
     "text": [
      "dict_values(['A研', 'B研', 'C研', 'D研', 'E研', 'F研', 'G研', 'H研', 'M研', 'N研', 'P研', 'Q研', 'R研'])\n"
     ]
    }
   ],
   "source": [
    "fake_lab={'成研': 'A研', '石田健研': 'B研', '仲研': 'C研', '澤田研': 'D研', \n",
    "          '稲永研': 'E研', '合志研': 'F研', '米元研': 'G研', '朝廣研': 'H研', \n",
    "          '下川研': 'M研', '安部研': 'N研', 'アプドゥハン研': 'P研', '田中研': 'Q研', '安武研': 'R研'}\n",
    "print(fake_lab.values())"
   ]
  },
  {
   "cell_type": "markdown",
   "id": "8586cf33",
   "metadata": {},
   "source": [
    "# various graphs\n",
    "- themeriver graph (mathplotlib.stackplots)\n",
    "- knowledge structure graph"
   ]
  },
  {
   "cell_type": "code",
   "execution_count": 10,
   "metadata": {},
   "outputs": [
    {
     "name": "stdout",
     "output_type": "stream",
     "text": [
      "['拡張', '現実', '感', 'ため', '物体', '奥行き', '考慮', 'する', '陰', '面', '消去']\n",
      "['拡張現実', '感', 'ため', '物体', '奥行き', '考慮', 'した陰', '面', '消去']\n"
     ]
    }
   ],
   "source": [
    "import importlib\n",
    "importlib.reload(wkt)\n",
    "mecab = wkt.create_parser(worker='mecab', parts_of_speech=['名詞','動詞','形容詞'])\n",
    "janome = wkt.create_parser(worker='janome', parts_of_speech=['名詞','動詞','形容詞'])\n",
    "text = '拡張現実感のための実物体の奥行きを考慮した陰面消去'\n",
    "rs_j = wkt.word_seq(text,parser=janome)\n",
    "rs_m = wkt.word_seq(text,parser=mecab)\n",
    "print(rs_j)\n",
    "print(rs_m)"
   ]
  },
  {
   "cell_type": "code",
   "execution_count": 11,
   "metadata": {},
   "outputs": [
    {
     "name": "stdout",
     "output_type": "stream",
     "text": [
      "['研究', '室', '配属', '学生', '研究', '室', '理解', '深める', '情報', '共有', 'システム']\n",
      "['研究室', '配属', '学生', '研究室', '理解', '深める', '情報共有', 'システム']\n"
     ]
    }
   ],
   "source": [
    "text = '研究室配属における学生の研究室に対する理解を深める情報共有システム'\n",
    "rs_j = wkt.word_seq(text,parser=janome)\n",
    "rs_m = wkt.word_seq(text,parser=mecab)\n",
    "print(rs_j)\n",
    "print(rs_m)"
   ]
  },
  {
   "cell_type": "code",
   "execution_count": null,
   "metadata": {},
   "outputs": [],
   "source": []
  }
 ],
 "metadata": {
  "kernelspec": {
   "display_name": "Python 3",
   "language": "python",
   "name": "python3"
  },
  "language_info": {
   "codemirror_mode": {
    "name": "ipython",
    "version": 3
   },
   "file_extension": ".py",
   "mimetype": "text/x-python",
   "name": "python",
   "nbconvert_exporter": "python",
   "pygments_lexer": "ipython3",
   "version": "3.8.5"
  }
 },
 "nbformat": 4,
 "nbformat_minor": 5
}
